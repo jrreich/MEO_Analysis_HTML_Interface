{
 "cells": [
  {
   "cell_type": "code",
   "execution_count": 9,
   "metadata": {},
   "outputs": [],
   "source": [
    "import pymap3d\n",
    "import numpy as np \n",
    "import datetime"
   ]
  },
  {
   "cell_type": "code",
   "execution_count": 4,
   "metadata": {},
   "outputs": [
    {
     "name": "stdout",
     "output_type": "stream",
     "text": [
      "398588401724000.0\n"
     ]
    }
   ],
   "source": [
    "import numpy as np\n",
    "from numpy.linalg import norm as norm\n",
    "G = 6.6742867e-11 # [m^3/(kg*s^2)]\n",
    "M = 5.972e24 #[kg]\n",
    "#mu = 1.32712440018e20 # (for sun)\n",
    "mu = G*M  \n",
    "r_Earth = 6378.1370\n",
    "def Car2Kep(r,r_dot):\n",
    "    r = np.array(r)\n",
    "    r_dot = np.array(r_dot)\n",
    "    h = np.cross(r, r_dot)\n",
    "    e = np.cross(r_dot, h)/mu - r / norm(r)\n",
    "    n = np.cross(np.array([0,0,1]).T, h) \n",
    "    print(f' arcos -> {np.dot(e,r)/(norm(e)*norm(r))}')\n",
    "    a = np.arccos(np.around([np.dot(e,r)/(norm(e)*norm(r))],4))\n",
    "    if np.dot(r, r_dot) >= 0:\n",
    "        nu = a \n",
    "    else: \n",
    "        nu = 2*np.pi - a \n",
    "    i = np.arccos(h[2]/norm(h))\n",
    "    ecen = norm(e)\n",
    "    E = 2* np.arctan(np.tan(nu/2)/np.sqrt((1+ecen)/(1-ecen)))\n",
    "    b = np.arccos(n[0]/norm(n))\n",
    "    if n[1] >= 0:\n",
    "        LAN = b\n",
    "    else: \n",
    "        LAN = 2*np.pi - b \n",
    "    c = np.arccos(np.dot(n,e)/(norm(n)*norm(e)))\n",
    "    if e[2] >= 0: \n",
    "        arg_periapsis = c\n",
    "    else: \n",
    "        arg_periapsis = 2*np.pi - c \n",
    "    MA = E - ecen * np.sin(E) \n",
    "    semi_major_axis = 1/(2/norm(r) - norm(r_dot)**2/mu)\n",
    "    print(f'LAN = {np.degrees(LAN)}')\n",
    "    print(f'n arg of per = {np.degrees(arg_periapsis)}')\n",
    "    print(f'SMA = {semi_major_axis/1000}')\n",
    "    print(f'altitud = {semi_major_axis/1000 - r_Earth}')\n",
    "    print(f'inc = {np.degrees(i)}')\n",
    "    \n",
    "        \n",
    "        \n",
    "print(mu)"
   ]
  },
  {
   "cell_type": "code",
   "execution_count": 6,
   "metadata": {},
   "outputs": [
    {
     "name": "stdout",
     "output_type": "stream",
     "text": [
      " arcos -> -0.9341771297650306\n",
      "LAN = 192.72276614827925\n",
      "n arg of per = 115.20403123218438\n",
      "SMA = 7196.575597428935\n",
      "altitud = 818.4385974289353\n",
      "inc = 98.67792818424897\n"
     ]
    }
   ],
   "source": [
    "r = [-4662.01111478, 2381.95662954, -3720.98346756]\n",
    "r_dot = [-0.10776592, -6.69146376, -4.1523529]\n",
    "#S13 on 1-22-2019 from Ops DB \n",
    "r = [5315.2232513094, -3465.67264395548, 3397.26705706959]\n",
    "r_dot= [1.95487462376408, -3.35562532263923, -6.4591938118276]\n",
    "#S13 on 1-21-2019 form ops DB\n",
    "r = [-635.069414190482, 1838.95822093303, 6921.98537124925]\n",
    "r_dot = [6.0183239018426, -4.19871522205637, 1.66502260409565]\n",
    "#S7 \n",
    "r = [-1119.95628874068,6723.93770407554, 2256.52695699187] \n",
    "r_dot =[2.04945183509424, -2.00556767944363, 6.98454736905211]\n",
    "#301 \n",
    "#r = [17554.766566601,5569.15284988945,19081.2823238413]\n",
    "#r_dot = [1.04225005747536, 2.21431174937694, -1.56123916092309]\n",
    "r = [-4899.50652582, -1878.94944836, -4938.69001586]\n",
    "r_dot = [-5.20181274, -0.34556583,  5.29743993]\n",
    "\n",
    "\n",
    "r = 1000*np.array(r)\n",
    "r_dot= 1000*np.array(r_dot)\n",
    "Car2Kep(r, r_dot)"
   ]
  },
  {
   "cell_type": "code",
   "execution_count": 11,
   "metadata": {},
   "outputs": [
    {
     "data": {
      "text/plain": [
       "array([-5711.0601523 , -2765.19023271,  3397.26705707])"
      ]
     },
     "execution_count": 11,
     "metadata": {},
     "output_type": "execute_result"
    }
   ],
   "source": [
    "#S13 on 1-22-2019 from Ops DB \n",
    "r = [5315.2232513094, -3465.67264395548, 3397.26705706959]\n",
    "r_dot= [1.95487462376408, -3.35562532263923, -6.4591938118276]\n",
    "time1 = datetime.datetime(2019,1,22)\n",
    "pymap3d.eci2ecef(r, time1)"
   ]
  }
 ],
 "metadata": {
  "kernelspec": {
   "display_name": "venv",
   "language": "python",
   "name": "venv"
  },
  "language_info": {
   "codemirror_mode": {
    "name": "ipython",
    "version": 3
   },
   "file_extension": ".py",
   "mimetype": "text/x-python",
   "name": "python",
   "nbconvert_exporter": "python",
   "pygments_lexer": "ipython3",
   "version": "3.7.3"
  }
 },
 "nbformat": 4,
 "nbformat_minor": 2
}
